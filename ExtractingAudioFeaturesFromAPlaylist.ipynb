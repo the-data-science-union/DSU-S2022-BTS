{
 "cells": [
  {
   "cell_type": "code",
   "execution_count": 1,
   "id": "2cf72c07",
   "metadata": {},
   "outputs": [],
   "source": [
    "# import requests\n",
    "# import time\n",
    "from pprint import pprint\n",
    "\n",
    "import spotipy\n",
    "from spotipy.oauth2 import SpotifyOAuth\n",
    "\n",
    "import pandas as pd\n",
    "import numpy as np\n",
    "import os"
   ]
  },
  {
   "cell_type": "code",
   "execution_count": 2,
   "id": "ef996590",
   "metadata": {},
   "outputs": [],
   "source": [
    "def get_playlist_tracks(playlist_id):\n",
    "    playlist_items = sp.playlist_items(playlist_id)\n",
    "    tracks = playlist_items['items']\n",
    "    while playlist_items['next']:\n",
    "        playlist_items = sp.next(playlist_items)\n",
    "        tracks.extend(playlist_items['items'])\n",
    "    return tracks\n",
    "\n",
    "def get_track_fields(id_list):\n",
    "    audio_features = sp.audio_features(id_list[:100])\n",
    "    audio_features.extend(sp.audio_features(id_list[100:200]))\n",
    "    audio_features.extend(sp.audio_features(id_list[200:]))\n",
    "    return audio_features"
   ]
  },
  {
   "cell_type": "code",
   "execution_count": 16,
   "id": "d49b5698",
   "metadata": {
    "scrolled": false
   },
   "outputs": [],
   "source": [
    "CID = \"7b80e1b5abf2415e81b6c03ecf926b77\"\n",
    "CSECRET = \"7df2130db92849fc958d44f2c9187437\"\n",
    "RURI = \"http://localhost/\"\n",
    "SCOPE = \"user-library-read\"\n",
    "\n",
    "PLAYLIST_ID = \"6Tmpg47Lqkba4kmDY7ymLC\"\n",
    "\n",
    "sp = spotipy.Spotify(auth_manager=SpotifyOAuth(client_id = CID,\n",
    "                                               client_secret = CSECRET,\n",
    "                                               redirect_uri = RURI,\n",
    "                                               scope = SCOPE))\n",
    "all_tracks = get_playlist_tracks(PLAYLIST_ID)"
   ]
  },
  {
   "cell_type": "code",
   "execution_count": 42,
   "id": "ac8ca0f7",
   "metadata": {},
   "outputs": [],
   "source": [
    "album_id = []\n",
    "album_title = []\n",
    "album_rd = []\n",
    "album_seq = []\n",
    "track_id = []\n",
    "track_name = []\n",
    "track_popularity = []\n",
    "\n",
    "for i in range(len(all_tracks)):\n",
    "    album_id.append(all_tracks[i]['track']['album']['id'])\n",
    "    album_title.append(all_tracks[i]['track']['album']['name'])\n",
    "    album_rd.append(all_tracks[i]['track']['album']['release_date'])\n",
    "    album_seq.append(all_tracks[i]['track']['track_number'])\n",
    "    track_id.append(all_tracks[i]['track']['id'])\n",
    "    track_name.append(all_tracks[i]['track']['name'])\n",
    "    track_popularity.append(all_tracks[i]['track']['popularity'])\n",
    "\n",
    "audio_features = get_track_fields(track_id)\n",
    "\n",
    "df = pd.DataFrame(list(zip(album_id, album_title, album_rd, album_seq, \n",
    "                           track_id, track_name, track_popularity, audio_features)), \n",
    "                  columns =['album_id', 'album_title', 'album_rd', 'album_seq',\n",
    "                            'track_id','track_name','track_popularity','audio_features'])\n",
    "\n",
    "df_audio = df['audio_features'].apply(pd.Series)\n",
    "df = df.drop('audio_features', axis = 1)\n",
    "final = df.join(df_audio, how='left')\n",
    "final.to_csv('bts_song_features_224.csv')"
   ]
  }
 ],
 "metadata": {
  "kernelspec": {
   "display_name": "Python 3 (ipykernel)",
   "language": "python",
   "name": "python3"
  },
  "language_info": {
   "codemirror_mode": {
    "name": "ipython",
    "version": 3
   },
   "file_extension": ".py",
   "mimetype": "text/x-python",
   "name": "python",
   "nbconvert_exporter": "python",
   "pygments_lexer": "ipython3",
   "version": "3.9.7"
  }
 },
 "nbformat": 4,
 "nbformat_minor": 5
}
